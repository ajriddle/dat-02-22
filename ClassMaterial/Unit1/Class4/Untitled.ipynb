{
 "cells": [
  {
   "cell_type": "code",
   "execution_count": 1,
   "metadata": {},
   "outputs": [],
   "source": [
    "import requests\n",
    "# this is the web scraper\n",
    "from bs4 import BeautifulSoup"
   ]
  },
  {
   "cell_type": "code",
   "execution_count": 2,
   "metadata": {},
   "outputs": [],
   "source": [
    "url = 'https://www.yelp.com/search?find_desc=Restaurants&find_loc=London%2C%20United%20Kingdom&ns=1'\n",
    "\n",
    "yelp_req = requests.get(url)"
   ]
  },
  {
   "cell_type": "code",
   "execution_count": 5,
   "metadata": {},
   "outputs": [],
   "source": [
    "scraper = BeautifulSoup(yelp_req.text)"
   ]
  },
  {
   "cell_type": "code",
   "execution_count": 12,
   "metadata": {},
   "outputs": [
    {
     "data": {
      "text/plain": [
       "<div class=\"consumer-header-container__09f24__2iDVS border--bottom__09f24__xdij8 border-color--default__09f24__1eOdn background-color--white__09f24__3aspp\"><div class=\"consumer-header__09f24__5vTsM border-color--default__09f24__1eOdn\"><div class=\"arrange__09f24__2v3uJ vertical-align-middle__09f24__1tXIr border-color--default__09f24__1eOdn\"><div class=\"logo-arrange-unit__09f24__1sgq4 arrange-unit__09f24__3IxLD border-color--default__09f24__1eOdn\"><div class=\"margin-r4__09f24__1VfYY margin-sm-r0__09f24__tjYlH border-color--default__09f24__1eOdn\"><div class=\"logo__09f24__26Nsn logo-image__09f24__ZKHhi logo-container__09f24__3Qmzx border-color--default__09f24__1eOdn\" data-analytics-label=\"logo\" id=\"logo\"><a class=\"logo-link__09f24__3oxr_ css-5r1d0t\" href=\"/\" name=\"\" rel=\"\" role=\"link\" target=\"\">Yelp</a></div></div></div><div class=\"search-suggest-arrange-unit__09f24__3vLVY arrange-unit__09f24__3IxLD arrange-unit-fill__09f24__1v_h4 border-color--default__09f24__1eOdn\"><div class=\"search-suggest-container-outer__09f24__rSgmm border-color--default__09f24__1eOdn\"><div class=\"search-suggest-container-inner__09f24__2C9vZ border-color--default__09f24__1eOdn\"><div class=\"arrange__09f24__2v3uJ gutter-2__09f24__3iyP3 border-color--default__09f24__1eOdn\"><div class=\"arrange-unit__09f24__3IxLD arrange-unit-fill__09f24__1v_h4 border-color--default__09f24__1eOdn\"><div class=\"search-suggest__09f24__1meTU\"><div class=\"\"><form action=\"/search\" class=\"find-near-form__09f24__2y8Yy\" id=\"header_find_form\" method=\"get\" role=\"search\"><div class=\"undefined arrange__09f24__2v3uJ border-color--default__09f24__1eOdn\"><div class=\"arrange-unit__09f24__3IxLD arrange-unit-fill__09f24__1v_h4 border-color--default__09f24__1eOdn\"><div class=\"find-near-arrange__09f24__10iE- arrange__09f24__2v3uJ layout-equal__09f24__kONX- border-color--default__09f24__1eOdn\"><div class=\"find-near-arrange-unit__09f24__2nUgJ arrange-unit__09f24__3IxLD border-color--default__09f24__1eOdn\"><label class=\"label__09f24__23EB0 pseudo-input__09f24__3IGCg pseudo-input__09f24__14BtC pseudo-input--find-near__09f24__1gi9G pseudo-input--find__09f24__2RFJW\" for=\"search_description\"><span class=\"pseudo-input-text__09f24__EWsQz display--inline__09f24__EhyFv border-color--default__09f24__1eOdn\"><div class=\"pseudo-input-icon-container__09f24__31kP9 margin-r1-5__09f24__3fQB8 border-color--default__09f24__1eOdn\"><span aria-hidden=\"false\" aria-label=\"Find\" class=\"icon--24-search-v2 pseudo-input-icon__09f24__3Pmw2 css-1mpk29p\"><svg class=\"icon_svg\" height=\"24\" width=\"24\"><path d=\"M21.853 20.355l-3.444-3.443a9.428 9.428 0 10-16.761-6.171 9.428 9.428 0 0015.348 7.586l3.443 3.442a1 1 0 101.414-1.414zM5.82 16.245a7.429 7.429 0 115.253 2.175 7.38 7.38 0 01-5.253-2.176z\"></path></svg></span></div></span><div class=\"border-color--default__09f24__1eOdn overflow--hidden__09f24__3z7CX\"><div class=\"typeahead__09f24__2mlJD border-color--default__09f24__1eOdn\"><input aria-hidden=\"true\" autocomplete=\"off\" class=\"input__09f24__30UUZ input__09f24__1XNzA hidden-input__09f24__3e1WX\" disabled=\"\" placeholder=\" \" spellcheck=\"false\" tabindex=\"-1\" type=\"text\" value=\"\"/><input aria-autocomplete=\"list\" autocomplete=\"off\" class=\"input__09f24__30UUZ input__09f24__1XNzA original-input__09f24__fFh2n\" data-testid=\"suggest-desc-input\" id=\"search_description\" name=\"find_desc\" placeholder=\"tacos, cheap dinner, Max’s\" tabindex=\"0\" type=\"text\" value=\"Restaurants\"/></div></div></label></div><div class=\"responsive-gutter__09f24__giwcv location-arrange-unit__09f24__3JbAh find-near-arrange-unit__09f24__2nUgJ arrange-unit__09f24__3IxLD layout-stack-gutter-1-5__09f24__2AxaV margin-sm-t1-5__09f24__23UyF border-color--default__09f24__1eOdn\"><label class=\"label__09f24__23EB0 pseudo-input__09f24__3IGCg pseudo-input__09f24__14BtC pseudo-input--find-near__09f24__1gi9G pseudo-input--near__09f24__1SB0F\" for=\"search_location\"><span class=\"pseudo-input-text__09f24__EWsQz display--inline__09f24__EhyFv border-color--default__09f24__1eOdn\"><div class=\"pseudo-input-icon-container__09f24__31kP9 margin-r1-5__09f24__3fQB8 border-color--default__09f24__1eOdn\"><span aria-hidden=\"false\" aria-label=\"Near\" class=\"icon--24-marker-v2 pseudo-input-icon__09f24__3Pmw2 css-1mpk29p\"><svg class=\"icon_svg\" height=\"24\" width=\"24\"><path d=\"M12 1.039a9.25 9.25 0 016.54 15.791l-5.83 5.84A1 1 0 0112 23a1 1 0 01-.71-.29l-5.83-5.88A9.25 9.25 0 0112 1.039zm0 2.011a7.25 7.25 0 00-5.13 12.37L12 20.54l5.13-5.12A7.25 7.25 0 0012 3.05zm0 3.2a4 4 0 110 8 4 4 0 010-8zm0 2a2 2 0 100 4 2 2 0 000-4z\"></path></svg></span></div></span><div class=\"border-color--default__09f24__1eOdn overflow--hidden__09f24__3z7CX\"><div class=\"typeahead__09f24__2mlJD border-color--default__09f24__1eOdn\"><input aria-hidden=\"true\" autocomplete=\"off\" class=\"input__09f24__30UUZ input__09f24__1XNzA hidden-input__09f24__3e1WX\" disabled=\"\" placeholder=\" \" spellcheck=\"false\" tabindex=\"-1\" type=\"text\" value=\"\"/><input aria-autocomplete=\"list\" autocomplete=\"off\" class=\"input__09f24__30UUZ input__09f24__1XNzA original-input__09f24__fFh2n\" data-testid=\"suggest-location-input\" id=\"search_location\" placeholder=\"address, neighborhood, city, state or zip\" tabindex=\"0\" type=\"text\" value=\"London, United Kingdom\"/></div><input name=\"find_loc\" type=\"hidden\" value=\"London, United Kingdom\"/></div></label></div></div></div><div class=\"buttons-arrange-unit__09f24__zksuB arrange-unit__09f24__3IxLD border-color--default__09f24__1eOdn\"><div class=\"arrange__09f24__2v3uJ gutter-6__09f24__2Egju layout-equal__09f24__kONX- border-color--default__09f24__1eOdn\"><div class=\"hidden-non-responsive-inline-block responsive-visible-small-inline-block arrange-unit__09f24__3IxLD border-color--default__09f24__1eOdn\"><a class=\"find-near-button__09f24__UO8nW css-a73up\" data-activated=\"false\" data-testid=\"responsive-suggest-submit\" href=\"#\" type=\"secondary\"><span class=\"css-ardur\">Cancel</span></a></div><div class=\"arrange-unit__09f24__3IxLD border-color--default__09f24__1eOdn\"><button class=\"find-near-button__09f24__UO8nW css-16eau31\" data-activated=\"false\" data-testid=\"suggest-submit\" type=\"submit\" value=\"submit\"><span class=\"css-ardur\"><span aria-hidden=\"false\" aria-label=\"Search\" class=\"icon--24-search-v2 css-12anxc3\"><svg class=\"icon_svg\" height=\"24\" width=\"24\"><path d=\"M21.853 20.355l-3.444-3.443a9.428 9.428 0 10-16.761-6.171 9.428 9.428 0 0015.348 7.586l3.443 3.442a1 1 0 101.414-1.414zM5.82 16.245a7.429 7.429 0 115.253 2.175 7.38 7.38 0 01-5.253-2.176z\"></path></svg></span></span></button></div></div></div></div></form></div></div></div></div></div></div></div><div class=\"auth-arrange-unit__09f24__1ndPl arrange-unit__09f24__3IxLD border-color--default__09f24__1eOdn nowrap__09f24__29i9N\"><div class=\"auth-arrange-unit-inner__09f24__IoV6U arrange__09f24__2v3uJ border-color--default__09f24__1eOdn\"><div class=\"search-button-container__09f24__3jX4H arrange-unit__09f24__3IxLD border-color--default__09f24__1eOdn\"><span aria-label=\"Search\" class=\"display--inline__09f24__EhyFv border-color--default__09f24__1eOdn\"><div class=\"css-19sk4h4 display--inline-block__09f24__3L1EB border-color--default__09f24__1eOdn\" disabled=\"\"><div aria-describedby=\"22237330-c959-43e1-9c9a-be406f0136a3\" class=\"border-color--default__09f24__1eOdn\"><button class=\"header-link__09f24__3OkYO header-link--icon__09f24___Aj0f\"><div class=\"padding-t1__09f24__2GVpG padding-r1__09f24__23Vay padding-b1__09f24__1d8yO padding-l1__09f24__aqYTU border-color--default__09f24__1eOdn\"><div class=\"notification-wrapper__09f24__3YKGg display--inline-block__09f24__3L1EB border-color--default__09f24__1eOdn\"><span aria-hidden=\"true\" class=\"icon--24-search-v2 notification-icon__09f24__1Jh41 css-1mpk29p\"><svg class=\"icon_svg\" height=\"24\" width=\"24\"><path d=\"M21.853 20.355l-3.444-3.443a9.428 9.428 0 10-16.761-6.171 9.428 9.428 0 0015.348 7.586l3.443 3.442a1 1 0 101.414-1.414zM5.82 16.245a7.429 7.429 0 115.253 2.175 7.38 7.38 0 01-5.253-2.176z\"></path></svg></span></div></div></button></div></div></span></div><div class=\"arrange-unit__09f24__3IxLD border-color--default__09f24__1eOdn\"><div class=\"display--inline-block__09f24__3L1EB margin-l2__09f24__1aIU3 border-color--default__09f24__1eOdn\"><span class=\"hide-below-a__09f24__ndhoV display--inline__09f24__EhyFv margin-r1__09f24__BCulR margin-l1__09f24__2txuN padding-r1__09f24__23Vay border-color--default__09f24__1eOdn\"><a class=\"header-link__09f24__3OkYO\" href=\"/advertise/consumer_header_redirect\"><div class=\"padding-t1__09f24__2GVpG padding-r1__09f24__23Vay padding-b1__09f24__1d8yO padding-l1__09f24__aqYTU border-color--default__09f24__1eOdn\"><div class=\"notification-wrapper__09f24__3YKGg display--inline-block__09f24__3L1EB border-color--default__09f24__1eOdn\"><p class=\"css-8yg8ez\">For Businesses</p></div></div></a></span><span class=\"hide-below-a__09f24__ndhoV display--inline__09f24__EhyFv margin-r1__09f24__BCulR padding-r1__09f24__23Vay border-color--default__09f24__1eOdn\"><a class=\"header-link__09f24__3OkYO\" href=\"/writeareview\"><div class=\"padding-t1__09f24__2GVpG padding-r1__09f24__23Vay padding-b1__09f24__1d8yO padding-l1__09f24__aqYTU border-color--default__09f24__1eOdn\"><div class=\"notification-wrapper__09f24__3YKGg display--inline-block__09f24__3L1EB border-color--default__09f24__1eOdn\"><p class=\"css-8yg8ez\">Write a Review</p></div></div></a></span><span class=\"display--inline__09f24__EhyFv border-color--default__09f24__1eOdn\"><a class=\"css-a73up\" data-activated=\"false\" href=\"/login?return_url=https://www.yelp.com/search?find_desc=Restaurants&amp;find_loc=London%2C%20United%20Kingdom\" type=\"secondary\"><span class=\"css-ardur\">Log In</span></a><a class=\"hide-below-b__09f24__Rnoc8 css-yp186p\" data-activated=\"false\" href=\"/signup?return_url=https://www.yelp.com/search?find_desc=Restaurants&amp;find_loc=London%2C%20United%20Kingdom\" type=\"primary\"><span class=\"css-ardur\">Sign Up</span></a></span></div></div></div></div></div><div class=\"header-nav-container__09f24__1M4qU header-nav-mobile-form-closed__09f24__2ItVv border-color--default__09f24__1eOdn nowrap__09f24__29i9N\"><div class=\"header-nav__09f24__1Lxpg border-color--default__09f24__1eOdn\"><div><div class=\"header-nav_unit header-nav_unit__09f24__1cIH8 undefined display--inline-block__09f24__3L1EB border-color--default__09f24__1eOdn\"><div aria-expanded=\"false\" aria-haspopup=\"true\" class=\"header-link__09f24__2PuTL border-color--default__09f24__1eOdn\"><a class=\"header-link_anchor__09f24__2I27Q\" href=\"/search?cflt=restaurants&amp;find_loc=London%2C%20United%20Kingdom\" tabindex=\"0\"><span class=\"css-n6i4z7\">Restaurants</span><span class=\"display--inline__09f24__EhyFv padding-l1__09f24__aqYTU border-color--default__09f24__1eOdn\"><span aria-hidden=\"true\" class=\"icon--24-chevron-down-v2 css-1mpk29p\"><svg class=\"icon_svg\" height=\"24\" width=\"24\"><path d=\"M12 15.25a1 1 0 01-.7-.29l-4.58-4.5A1.011 1.011 0 018.12 9L12 12.85 15.88 9a1 1 0 111.4 1.42L12.7 15a1 1 0 01-.7.25z\"></path></svg></span></span></a></div></div><div class=\"header-nav_unit header-nav_unit__09f24__1cIH8 undefined display--inline-block__09f24__3L1EB border-color--default__09f24__1eOdn\"><div aria-expanded=\"false\" aria-haspopup=\"true\" class=\"header-link__09f24__2PuTL border-color--default__09f24__1eOdn\"><a class=\"header-link_anchor__09f24__2I27Q\" href=\"/search?cflt=homeservices&amp;find_loc=London%2C%20United%20Kingdom\" tabindex=\"0\"><span class=\"css-n6i4z7\">Home Services</span><span class=\"display--inline__09f24__EhyFv padding-l1__09f24__aqYTU border-color--default__09f24__1eOdn\"><span aria-hidden=\"true\" class=\"icon--24-chevron-down-v2 css-1mpk29p\"><svg class=\"icon_svg\" height=\"24\" width=\"24\"><path d=\"M12 15.25a1 1 0 01-.7-.29l-4.58-4.5A1.011 1.011 0 018.12 9L12 12.85 15.88 9a1 1 0 111.4 1.42L12.7 15a1 1 0 01-.7.25z\"></path></svg></span></span></a></div></div><div class=\"header-nav_unit header-nav_unit__09f24__1cIH8 undefined display--inline-block__09f24__3L1EB border-color--default__09f24__1eOdn\"><div aria-expanded=\"false\" aria-haspopup=\"true\" class=\"header-link__09f24__2PuTL border-color--default__09f24__1eOdn\"><a class=\"header-link_anchor__09f24__2I27Q\" href=\"/search?cflt=auto&amp;find_loc=London%2C%20United%20Kingdom\" tabindex=\"0\"><span class=\"css-n6i4z7\">Auto Services</span><span class=\"display--inline__09f24__EhyFv padding-l1__09f24__aqYTU border-color--default__09f24__1eOdn\"><span aria-hidden=\"true\" class=\"icon--24-chevron-down-v2 css-1mpk29p\"><svg class=\"icon_svg\" height=\"24\" width=\"24\"><path d=\"M12 15.25a1 1 0 01-.7-.29l-4.58-4.5A1.011 1.011 0 018.12 9L12 12.85 15.88 9a1 1 0 111.4 1.42L12.7 15a1 1 0 01-.7.25z\"></path></svg></span></span></a></div></div><div class=\"header-nav_unit header-nav_unit__09f24__1cIH8 undefined display--inline-block__09f24__3L1EB border-color--default__09f24__1eOdn\"><div aria-expanded=\"false\" aria-haspopup=\"true\" class=\"header-link__09f24__2PuTL border-color--default__09f24__1eOdn\"><a class=\"header-link_anchor__09f24__2I27Q default-cursor__09f24__1zPjQ\" tabindex=\"0\"><span class=\"css-n6i4z7\">More</span><span class=\"display--inline__09f24__EhyFv padding-l1__09f24__aqYTU border-color--default__09f24__1eOdn\"><span aria-hidden=\"true\" class=\"icon--24-chevron-down-v2 css-1mpk29p\"><svg class=\"icon_svg\" height=\"24\" width=\"24\"><path d=\"M12 15.25a1 1 0 01-.7-.29l-4.58-4.5A1.011 1.011 0 018.12 9L12 12.85 15.88 9a1 1 0 111.4 1.42L12.7 15a1 1 0 01-.7.25z\"></path></svg></span></span></a></div></div></div></div></div></div></div>"
      ]
     },
     "execution_count": 12,
     "metadata": {},
     "output_type": "execute_result"
    }
   ],
   "source": [
    "scraper.find_all('div')[3]"
   ]
  },
  {
   "cell_type": "code",
   "execution_count": 21,
   "metadata": {},
   "outputs": [],
   "source": [
    "paragraphs = scraper.find_all('a', {'class': 'css-166la90'})"
   ]
  },
  {
   "cell_type": "code",
   "execution_count": 28,
   "metadata": {},
   "outputs": [
    {
     "data": {
      "text/plain": [
       "'The Mayfair Chippy'"
      ]
     },
     "execution_count": 28,
     "metadata": {},
     "output_type": "execute_result"
    }
   ],
   "source": [
    "paragraphs[0].text"
   ]
  },
  {
   "cell_type": "code",
   "execution_count": 29,
   "metadata": {},
   "outputs": [],
   "source": [
    "paragraphs = [paragraph.text for paragraph in paragraphs]"
   ]
  },
  {
   "cell_type": "code",
   "execution_count": 30,
   "metadata": {},
   "outputs": [
    {
     "data": {
      "text/plain": [
       "['The Mayfair Chippy',\n",
       " 'Dishoom',\n",
       " 'Flat Iron',\n",
       " 'Ffiona’s Restaurant',\n",
       " 'Restaurant Gordon Ramsay',\n",
       " 'The Fat Bear',\n",
       " 'The Breakfast Club',\n",
       " 'Padella',\n",
       " 'Dishoom',\n",
       " 'The Golden Chippy',\n",
       " '2',\n",
       " '3',\n",
       " '4',\n",
       " '5',\n",
       " '6',\n",
       " '7',\n",
       " '8',\n",
       " '9',\n",
       " '']"
      ]
     },
     "execution_count": 30,
     "metadata": {},
     "output_type": "execute_result"
    }
   ],
   "source": [
    "paragraphs"
   ]
  },
  {
   "cell_type": "code",
   "execution_count": 32,
   "metadata": {},
   "outputs": [],
   "source": [
    "paragraphs = [paragraph for paragraph in paragraphs if len(paragraph) > 1]"
   ]
  },
  {
   "cell_type": "code",
   "execution_count": 34,
   "metadata": {},
   "outputs": [
    {
     "data": {
      "text/plain": [
       "['The Mayfair Chippy',\n",
       " 'Dishoom',\n",
       " 'Flat Iron',\n",
       " 'Ffiona’s Restaurant',\n",
       " 'Restaurant Gordon Ramsay',\n",
       " 'The Fat Bear',\n",
       " 'The Breakfast Club',\n",
       " 'Padella',\n",
       " 'Dishoom',\n",
       " 'The Golden Chippy']"
      ]
     },
     "execution_count": 34,
     "metadata": {},
     "output_type": "execute_result"
    }
   ],
   "source": [
    "paragraphs"
   ]
  },
  {
   "cell_type": "code",
   "execution_count": null,
   "metadata": {},
   "outputs": [],
   "source": [
    "reviewCount__09f24__EUXPN css-e81eai"
   ]
  },
  {
   "cell_type": "code",
   "execution_count": 35,
   "metadata": {},
   "outputs": [],
   "source": [
    "reviews = scraper.find_all('span', {'class': 'reviewCount__09f24__EUXPN'})"
   ]
  },
  {
   "cell_type": "code",
   "execution_count": 37,
   "metadata": {},
   "outputs": [],
   "source": [
    "reviews = [int(review.text) for review in reviews]"
   ]
  },
  {
   "cell_type": "code",
   "execution_count": 38,
   "metadata": {},
   "outputs": [
    {
     "data": {
      "text/plain": [
       "[283, 1841, 380, 268, 204, 122, 494, 207, 547, 107]"
      ]
     },
     "execution_count": 38,
     "metadata": {},
     "output_type": "execute_result"
    }
   ],
   "source": [
    "reviews"
   ]
  },
  {
   "cell_type": "code",
   "execution_count": 60,
   "metadata": {},
   "outputs": [],
   "source": [
    "reviews = scraper.find_all('span', {'class': 'reviewCount__09f24__EUXPN'})"
   ]
  },
  {
   "cell_type": "code",
   "execution_count": 66,
   "metadata": {},
   "outputs": [
    {
     "data": {
      "text/plain": [
       "['reviewCount__09f24__EUXPN', 'css-e81eai']"
      ]
     },
     "execution_count": 66,
     "metadata": {},
     "output_type": "execute_result"
    }
   ],
   "source": [
    "reviews[0]['class']"
   ]
  },
  {
   "cell_type": "code",
   "execution_count": 58,
   "metadata": {},
   "outputs": [],
   "source": [
    "reviews = [int(review.text) for review in reviews]"
   ]
  },
  {
   "cell_type": "code",
   "execution_count": 59,
   "metadata": {},
   "outputs": [
    {
     "data": {
      "text/plain": [
       "[283, 1841, 380, 268, 204, 122, 494, 207, 547, 107]"
      ]
     },
     "execution_count": 59,
     "metadata": {},
     "output_type": "execute_result"
    }
   ],
   "source": [
    "reviews"
   ]
  },
  {
   "cell_type": "code",
   "execution_count": 67,
   "metadata": {},
   "outputs": [],
   "source": [
    "titles = scraper.find_all('a', {'class': 'css-166la90'})"
   ]
  },
  {
   "cell_type": "code",
   "execution_count": 70,
   "metadata": {},
   "outputs": [],
   "source": [
    "titles = [title.text for title in titles]\n",
    "titles = [title for title in titles if len(title) > 1]"
   ]
  },
  {
   "cell_type": "code",
   "execution_count": 71,
   "metadata": {},
   "outputs": [
    {
     "data": {
      "text/plain": [
       "['The Mayfair Chippy',\n",
       " 'Dishoom',\n",
       " 'Flat Iron',\n",
       " 'Ffiona’s Restaurant',\n",
       " 'Restaurant Gordon Ramsay',\n",
       " 'The Fat Bear',\n",
       " 'The Breakfast Club',\n",
       " 'Padella',\n",
       " 'Dishoom',\n",
       " 'The Golden Chippy']"
      ]
     },
     "execution_count": 71,
     "metadata": {},
     "output_type": "execute_result"
    }
   ],
   "source": [
    "titles"
   ]
  },
  {
   "cell_type": "code",
   "execution_count": 72,
   "metadata": {},
   "outputs": [
    {
     "name": "stdout",
     "output_type": "stream",
     "text": [
      "£\n"
     ]
    }
   ],
   "source": [
    "print('\\xA3')"
   ]
  },
  {
   "cell_type": "code",
   "execution_count": 76,
   "metadata": {},
   "outputs": [],
   "source": [
    "string = \"This is a  \\xA3 symbol\""
   ]
  },
  {
   "cell_type": "code",
   "execution_count": 78,
   "metadata": {},
   "outputs": [
    {
     "data": {
      "text/plain": [
       "True"
      ]
     },
     "execution_count": 78,
     "metadata": {},
     "output_type": "execute_result"
    }
   ],
   "source": [
    "'\\xA3' in string"
   ]
  },
  {
   "cell_type": "code",
   "execution_count": null,
   "metadata": {},
   "outputs": [],
   "source": [
    "'priceRange__09f24__2O6le css-xtpg8e'"
   ]
  },
  {
   "cell_type": "code",
   "execution_count": 79,
   "metadata": {},
   "outputs": [],
   "source": [
    "price_ranges = scraper.find_all('span', {'class': 'css-xtpg8e'})"
   ]
  },
  {
   "cell_type": "code",
   "execution_count": 81,
   "metadata": {},
   "outputs": [
    {
     "data": {
      "text/plain": [
       "'££'"
      ]
     },
     "execution_count": 81,
     "metadata": {},
     "output_type": "execute_result"
    }
   ],
   "source": [
    "price_ranges[0].text"
   ]
  },
  {
   "cell_type": "code",
   "execution_count": 82,
   "metadata": {},
   "outputs": [],
   "source": [
    "price_ranges = [price.text for price in price_ranges]"
   ]
  },
  {
   "cell_type": "code",
   "execution_count": 83,
   "metadata": {},
   "outputs": [
    {
     "data": {
      "text/plain": [
       "['££', '££', '££', '££', '££££', '££', '££', '££', '££', '££']"
      ]
     },
     "execution_count": 83,
     "metadata": {},
     "output_type": "execute_result"
    }
   ],
   "source": [
    "price_ranges"
   ]
  },
  {
   "cell_type": "code",
   "execution_count": 89,
   "metadata": {},
   "outputs": [],
   "source": [
    "df_dict = {\n",
    "    'Title': titles,\n",
    "    'PriceRange': price_ranges,\n",
    "    'NumReviews': reviews\n",
    "}"
   ]
  },
  {
   "cell_type": "code",
   "execution_count": 88,
   "metadata": {},
   "outputs": [],
   "source": [
    "reviews = [review.text for review in reviews]"
   ]
  },
  {
   "cell_type": "code",
   "execution_count": 90,
   "metadata": {},
   "outputs": [
    {
     "data": {
      "text/html": [
       "<div>\n",
       "<style scoped>\n",
       "    .dataframe tbody tr th:only-of-type {\n",
       "        vertical-align: middle;\n",
       "    }\n",
       "\n",
       "    .dataframe tbody tr th {\n",
       "        vertical-align: top;\n",
       "    }\n",
       "\n",
       "    .dataframe thead th {\n",
       "        text-align: right;\n",
       "    }\n",
       "</style>\n",
       "<table border=\"1\" class=\"dataframe\">\n",
       "  <thead>\n",
       "    <tr style=\"text-align: right;\">\n",
       "      <th></th>\n",
       "      <th>Title</th>\n",
       "      <th>PriceRange</th>\n",
       "      <th>NumReviews</th>\n",
       "    </tr>\n",
       "  </thead>\n",
       "  <tbody>\n",
       "    <tr>\n",
       "      <th>0</th>\n",
       "      <td>The Mayfair Chippy</td>\n",
       "      <td>££</td>\n",
       "      <td>283</td>\n",
       "    </tr>\n",
       "    <tr>\n",
       "      <th>1</th>\n",
       "      <td>Dishoom</td>\n",
       "      <td>££</td>\n",
       "      <td>1841</td>\n",
       "    </tr>\n",
       "    <tr>\n",
       "      <th>2</th>\n",
       "      <td>Flat Iron</td>\n",
       "      <td>££</td>\n",
       "      <td>380</td>\n",
       "    </tr>\n",
       "    <tr>\n",
       "      <th>3</th>\n",
       "      <td>Ffiona’s Restaurant</td>\n",
       "      <td>££</td>\n",
       "      <td>268</td>\n",
       "    </tr>\n",
       "    <tr>\n",
       "      <th>4</th>\n",
       "      <td>Restaurant Gordon Ramsay</td>\n",
       "      <td>££££</td>\n",
       "      <td>204</td>\n",
       "    </tr>\n",
       "    <tr>\n",
       "      <th>5</th>\n",
       "      <td>The Fat Bear</td>\n",
       "      <td>££</td>\n",
       "      <td>122</td>\n",
       "    </tr>\n",
       "    <tr>\n",
       "      <th>6</th>\n",
       "      <td>The Breakfast Club</td>\n",
       "      <td>££</td>\n",
       "      <td>494</td>\n",
       "    </tr>\n",
       "    <tr>\n",
       "      <th>7</th>\n",
       "      <td>Padella</td>\n",
       "      <td>££</td>\n",
       "      <td>207</td>\n",
       "    </tr>\n",
       "    <tr>\n",
       "      <th>8</th>\n",
       "      <td>Dishoom</td>\n",
       "      <td>££</td>\n",
       "      <td>547</td>\n",
       "    </tr>\n",
       "    <tr>\n",
       "      <th>9</th>\n",
       "      <td>The Golden Chippy</td>\n",
       "      <td>££</td>\n",
       "      <td>107</td>\n",
       "    </tr>\n",
       "  </tbody>\n",
       "</table>\n",
       "</div>"
      ],
      "text/plain": [
       "                      Title PriceRange NumReviews\n",
       "0        The Mayfair Chippy         ££        283\n",
       "1                   Dishoom         ££       1841\n",
       "2                 Flat Iron         ££        380\n",
       "3       Ffiona’s Restaurant         ££        268\n",
       "4  Restaurant Gordon Ramsay       ££££        204\n",
       "5              The Fat Bear         ££        122\n",
       "6        The Breakfast Club         ££        494\n",
       "7                   Padella         ££        207\n",
       "8                   Dishoom         ££        547\n",
       "9         The Golden Chippy         ££        107"
      ]
     },
     "execution_count": 90,
     "metadata": {},
     "output_type": "execute_result"
    }
   ],
   "source": [
    "import pandas as pd\n",
    "pd.DataFrame(df_dict)"
   ]
  },
  {
   "cell_type": "code",
   "execution_count": 91,
   "metadata": {},
   "outputs": [],
   "source": [
    "imgs = scraper.find_all('img', {'loading': 'auto', 'class': ''})"
   ]
  },
  {
   "cell_type": "code",
   "execution_count": 92,
   "metadata": {},
   "outputs": [
    {
     "data": {
      "text/plain": [
       "[<img alt=\"The Mayfair Chippy\" class=\"photo-box-img__09f24__3F3c5\" draggable=\"true\" height=\"100%\" loading=\"auto\" src=\"https://s3-media0.fl.yelpcdn.com/bphoto/BDTRkfVSJ8hoAT0amAfwkw/ls.jpg\" srcset=\"https://s3-media0.fl.yelpcdn.com/bphoto/BDTRkfVSJ8hoAT0amAfwkw/258s.jpg 1.03x,https://s3-media0.fl.yelpcdn.com/bphoto/BDTRkfVSJ8hoAT0amAfwkw/348s.jpg 1.39x,https://s3-media0.fl.yelpcdn.com/bphoto/BDTRkfVSJ8hoAT0amAfwkw/300s.jpg 1.20x\" width=\"100%\"/>,\n",
       " <img alt=\"Dishoom\" class=\"photo-box-img__09f24__3F3c5\" draggable=\"true\" height=\"100%\" loading=\"auto\" src=\"https://s3-media0.fl.yelpcdn.com/bphoto/4HC2FmxHZYzxqlqiRaeKCQ/ls.jpg\" srcset=\"https://s3-media0.fl.yelpcdn.com/bphoto/4HC2FmxHZYzxqlqiRaeKCQ/258s.jpg 1.03x,https://s3-media0.fl.yelpcdn.com/bphoto/4HC2FmxHZYzxqlqiRaeKCQ/348s.jpg 1.39x,https://s3-media0.fl.yelpcdn.com/bphoto/4HC2FmxHZYzxqlqiRaeKCQ/300s.jpg 1.20x\" width=\"100%\"/>,\n",
       " <img alt=\"Flat Iron\" class=\"photo-box-img__09f24__3F3c5\" draggable=\"true\" height=\"100%\" loading=\"auto\" src=\"https://s3-media0.fl.yelpcdn.com/bphoto/bDKwRFQ6_kNUj8mU7VjhjA/ls.jpg\" srcset=\"https://s3-media0.fl.yelpcdn.com/bphoto/bDKwRFQ6_kNUj8mU7VjhjA/258s.jpg 1.03x,https://s3-media0.fl.yelpcdn.com/bphoto/bDKwRFQ6_kNUj8mU7VjhjA/348s.jpg 1.39x,https://s3-media0.fl.yelpcdn.com/bphoto/bDKwRFQ6_kNUj8mU7VjhjA/300s.jpg 1.20x\" width=\"100%\"/>,\n",
       " <img alt=\"Ffiona’s Restaurant\" class=\"photo-box-img__09f24__3F3c5\" draggable=\"true\" height=\"100%\" loading=\"auto\" src=\"https://s3-media0.fl.yelpcdn.com/bphoto/seykrl3tugRsE8UL6-phKQ/ls.jpg\" srcset=\"https://s3-media0.fl.yelpcdn.com/bphoto/seykrl3tugRsE8UL6-phKQ/258s.jpg 1.03x,https://s3-media0.fl.yelpcdn.com/bphoto/seykrl3tugRsE8UL6-phKQ/348s.jpg 1.39x,https://s3-media0.fl.yelpcdn.com/bphoto/seykrl3tugRsE8UL6-phKQ/300s.jpg 1.20x\" width=\"100%\"/>,\n",
       " <img alt=\"Restaurant Gordon Ramsay\" class=\"photo-box-img__09f24__3F3c5\" draggable=\"true\" height=\"100%\" loading=\"auto\" src=\"https://s3-media0.fl.yelpcdn.com/bphoto/hRU7AK2ALJYPS3zuyjgpmA/ls.jpg\" srcset=\"https://s3-media0.fl.yelpcdn.com/bphoto/hRU7AK2ALJYPS3zuyjgpmA/258s.jpg 1.03x,https://s3-media0.fl.yelpcdn.com/bphoto/hRU7AK2ALJYPS3zuyjgpmA/348s.jpg 1.39x,https://s3-media0.fl.yelpcdn.com/bphoto/hRU7AK2ALJYPS3zuyjgpmA/300s.jpg 1.20x\" width=\"100%\"/>,\n",
       " <img alt=\"The Fat Bear\" class=\"photo-box-img__09f24__3F3c5\" draggable=\"true\" height=\"100%\" loading=\"auto\" src=\"https://s3-media0.fl.yelpcdn.com/bphoto/-U3vVDIo1UItF64Gf1yAZA/ls.jpg\" srcset=\"https://s3-media0.fl.yelpcdn.com/bphoto/-U3vVDIo1UItF64Gf1yAZA/258s.jpg 1.03x,https://s3-media0.fl.yelpcdn.com/bphoto/-U3vVDIo1UItF64Gf1yAZA/348s.jpg 1.39x,https://s3-media0.fl.yelpcdn.com/bphoto/-U3vVDIo1UItF64Gf1yAZA/300s.jpg 1.20x\" width=\"100%\"/>,\n",
       " <img alt=\"The Breakfast Club\" class=\"photo-box-img__09f24__3F3c5\" draggable=\"true\" height=\"100%\" loading=\"auto\" src=\"https://s3-media0.fl.yelpcdn.com/bphoto/TElKM303HWt3LAkvgBuTWg/ls.jpg\" srcset=\"https://s3-media0.fl.yelpcdn.com/bphoto/TElKM303HWt3LAkvgBuTWg/258s.jpg 1.03x,https://s3-media0.fl.yelpcdn.com/bphoto/TElKM303HWt3LAkvgBuTWg/348s.jpg 1.39x,https://s3-media0.fl.yelpcdn.com/bphoto/TElKM303HWt3LAkvgBuTWg/300s.jpg 1.20x\" width=\"100%\"/>,\n",
       " <img alt=\"Padella\" class=\"photo-box-img__09f24__3F3c5\" draggable=\"true\" height=\"100%\" loading=\"auto\" src=\"https://s3-media0.fl.yelpcdn.com/bphoto/Z6ujE4hSjT6DrejptE9PQQ/ls.jpg\" srcset=\"https://s3-media0.fl.yelpcdn.com/bphoto/Z6ujE4hSjT6DrejptE9PQQ/258s.jpg 1.03x,https://s3-media0.fl.yelpcdn.com/bphoto/Z6ujE4hSjT6DrejptE9PQQ/348s.jpg 1.39x,https://s3-media0.fl.yelpcdn.com/bphoto/Z6ujE4hSjT6DrejptE9PQQ/300s.jpg 1.20x\" width=\"100%\"/>,\n",
       " <img alt=\"Dishoom\" class=\"photo-box-img__09f24__3F3c5\" draggable=\"true\" height=\"100%\" loading=\"auto\" src=\"https://s3-media0.fl.yelpcdn.com/bphoto/9ok9Iflq--Oxs2w3dbcF9g/ls.jpg\" srcset=\"https://s3-media0.fl.yelpcdn.com/bphoto/9ok9Iflq--Oxs2w3dbcF9g/258s.jpg 1.03x,https://s3-media0.fl.yelpcdn.com/bphoto/9ok9Iflq--Oxs2w3dbcF9g/348s.jpg 1.39x,https://s3-media0.fl.yelpcdn.com/bphoto/9ok9Iflq--Oxs2w3dbcF9g/300s.jpg 1.20x\" width=\"100%\"/>,\n",
       " <img alt=\"The Golden Chippy\" class=\"photo-box-img__09f24__3F3c5\" draggable=\"true\" height=\"100%\" loading=\"auto\" src=\"https://s3-media0.fl.yelpcdn.com/bphoto/beEg47c5JfGgy9le6u3imw/ls.jpg\" srcset=\"https://s3-media0.fl.yelpcdn.com/bphoto/beEg47c5JfGgy9le6u3imw/258s.jpg 1.03x,https://s3-media0.fl.yelpcdn.com/bphoto/beEg47c5JfGgy9le6u3imw/348s.jpg 1.39x,https://s3-media0.fl.yelpcdn.com/bphoto/beEg47c5JfGgy9le6u3imw/300s.jpg 1.20x\" width=\"100%\"/>]"
      ]
     },
     "execution_count": 92,
     "metadata": {},
     "output_type": "execute_result"
    }
   ],
   "source": [
    "imgs"
   ]
  },
  {
   "cell_type": "code",
   "execution_count": 93,
   "metadata": {},
   "outputs": [
    {
     "data": {
      "text/plain": [
       "[2, 3, 4, 5]"
      ]
     },
     "execution_count": 93,
     "metadata": {},
     "output_type": "execute_result"
    }
   ],
   "source": [
    "[2, 3] + [4, 5]"
   ]
  },
  {
   "cell_type": "code",
   "execution_count": 98,
   "metadata": {},
   "outputs": [],
   "source": [
    "page_ranges = [0, 10, 20]\n",
    "\n",
    "price_ranges = []\n",
    "num_reviews  = []\n",
    "\n",
    "for i in page_ranges:\n",
    "    url = f'https://www.yelp.com/search?find_desc=Restaurants&find_loc=London%2C%20United%20Kingdom&ns=11&start={i}'\n",
    "    req = requests.get(url).text\n",
    "    scraper = BeautifulSoup(req)\n",
    "    p_ranges = scraper.find_all('span', {'class': 'css-xtpg8e'})\n",
    "    p_ranges = [price.text for price in p_ranges]\n",
    "    price_ranges += p_ranges\n",
    "    reviews = scraper.find_all('span', {'class': 'reviewCount__09f24__EUXPN'})\n",
    "    reviews = [review.text for review in reviews]\n",
    "    num_reviews += reviews"
   ]
  },
  {
   "cell_type": "code",
   "execution_count": 100,
   "metadata": {},
   "outputs": [
    {
     "data": {
      "text/plain": [
       "['283',\n",
       " '1841',\n",
       " '380',\n",
       " '268',\n",
       " '204',\n",
       " '122',\n",
       " '494',\n",
       " '207',\n",
       " '547',\n",
       " '107',\n",
       " '272',\n",
       " '825',\n",
       " '705',\n",
       " '152',\n",
       " '96',\n",
       " '120',\n",
       " '351',\n",
       " '480',\n",
       " '101',\n",
       " '470',\n",
       " '342',\n",
       " '184',\n",
       " '392',\n",
       " '278',\n",
       " '104',\n",
       " '59',\n",
       " '43',\n",
       " '239',\n",
       " '27',\n",
       " '227']"
      ]
     },
     "execution_count": 100,
     "metadata": {},
     "output_type": "execute_result"
    }
   ],
   "source": [
    "num_reviews"
   ]
  },
  {
   "cell_type": "code",
   "execution_count": 97,
   "metadata": {},
   "outputs": [
    {
     "data": {
      "text/html": [
       "<div>\n",
       "<style scoped>\n",
       "    .dataframe tbody tr th:only-of-type {\n",
       "        vertical-align: middle;\n",
       "    }\n",
       "\n",
       "    .dataframe tbody tr th {\n",
       "        vertical-align: top;\n",
       "    }\n",
       "\n",
       "    .dataframe thead th {\n",
       "        text-align: right;\n",
       "    }\n",
       "</style>\n",
       "<table border=\"1\" class=\"dataframe\">\n",
       "  <thead>\n",
       "    <tr style=\"text-align: right;\">\n",
       "      <th></th>\n",
       "      <th>Cat1</th>\n",
       "      <th>Cat2</th>\n",
       "      <th>Cat3</th>\n",
       "    </tr>\n",
       "  </thead>\n",
       "  <tbody>\n",
       "    <tr>\n",
       "      <th>0</th>\n",
       "      <td>Burgers</td>\n",
       "      <td>Taiwanese</td>\n",
       "      <td>Indian</td>\n",
       "    </tr>\n",
       "    <tr>\n",
       "      <th>1</th>\n",
       "      <td>None</td>\n",
       "      <td>Take Out</td>\n",
       "      <td>German</td>\n",
       "    </tr>\n",
       "    <tr>\n",
       "      <th>2</th>\n",
       "      <td>None</td>\n",
       "      <td>None</td>\n",
       "      <td>Burgers</td>\n",
       "    </tr>\n",
       "  </tbody>\n",
       "</table>\n",
       "</div>"
      ],
      "text/plain": [
       "      Cat1       Cat2     Cat3\n",
       "0  Burgers  Taiwanese   Indian\n",
       "1     None   Take Out   German\n",
       "2     None       None  Burgers"
      ]
     },
     "execution_count": 97,
     "metadata": {},
     "output_type": "execute_result"
    }
   ],
   "source": [
    "pd.DataFrame({\n",
    "'Cat1': ['Burgers'],\n",
    "'Cat2': ['Taiwanese', 'Take Out'],\n",
    "'Cat3': ['Indian', 'German', 'Burgers'],\n",
    "})"
   ]
  },
  {
   "cell_type": "code",
   "execution_count": null,
   "metadata": {},
   "outputs": [],
   "source": []
  }
 ],
 "metadata": {
  "kernelspec": {
   "display_name": "Python 3",
   "language": "python",
   "name": "python3"
  },
  "language_info": {
   "codemirror_mode": {
    "name": "ipython",
    "version": 3
   },
   "file_extension": ".py",
   "mimetype": "text/x-python",
   "name": "python",
   "nbconvert_exporter": "python",
   "pygments_lexer": "ipython3",
   "version": "3.7.3"
  }
 },
 "nbformat": 4,
 "nbformat_minor": 4
}
